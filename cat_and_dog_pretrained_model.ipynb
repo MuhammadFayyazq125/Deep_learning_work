{
  "nbformat": 4,
  "nbformat_minor": 0,
  "metadata": {
    "colab": {
      "name": "cat_and_dog_pretrained_model.ipynb",
      "provenance": [],
      "collapsed_sections": [],
      "toc_visible": true,
      "mount_file_id": "1fas197uECDRWmn_VriKQhDgyapZxuGZZ",
      "authorship_tag": "ABX9TyMFZaE78ymgAAiLAypfrQk+",
      "include_colab_link": true
    },
    "kernelspec": {
      "name": "python3",
      "display_name": "Python 3"
    },
    "language_info": {
      "name": "python"
    },
    "accelerator": "GPU"
  },
  "cells": [
    {
      "cell_type": "markdown",
      "metadata": {
        "id": "view-in-github",
        "colab_type": "text"
      },
      "source": [
        "<a href=\"https://colab.research.google.com/github/MuhammadFayyazq125/Deep_learning_work/blob/main/cat_and_dog_pretrained_model.ipynb\" target=\"_parent\"><img src=\"https://colab.research.google.com/assets/colab-badge.svg\" alt=\"Open In Colab\"/></a>"
      ]
    },
    {
      "cell_type": "code",
      "metadata": {
        "id": "9CK150c7ggZV",
        "colab": {
          "base_uri": "https://localhost:8080/",
          "height": 132
        },
        "outputId": "c3c2eee0-df61-41b0-d01a-9a4f0ff83ca3"
      },
      "source": [
        "/content/drive/MyDrive/kaggle_dataset_cat_and_dog/dogs-vs-cats"
      ],
      "execution_count": 1,
      "outputs": [
        {
          "output_type": "error",
          "ename": "SyntaxError",
          "evalue": "ignored",
          "traceback": [
            "\u001b[0;36m  File \u001b[0;32m\"<ipython-input-1-6c0b2499514e>\"\u001b[0;36m, line \u001b[0;32m1\u001b[0m\n\u001b[0;31m    content(/drive/MyDrive/kaggle_dataset_cat_and_dog/dogs-vs-cats)\u001b[0m\n\u001b[0m            ^\u001b[0m\n\u001b[0;31mSyntaxError\u001b[0m\u001b[0;31m:\u001b[0m invalid syntax\n"
          ]
        }
      ]
    },
    {
      "cell_type": "code",
      "metadata": {
        "id": "4oSt6_Vr9prV"
      },
      "source": [
        "from tensorflow.keras import models\n",
        "from tensorflow.keras import layers\n",
        "from tensorflow.keras import optimizers\n",
        "from tensorflow.keras.applications import VGG16\n",
        "import os\n",
        "import numpy as np\n",
        "from keras.preprocessing.image import ImageDataGenerator\n",
        "import tensorflow as tf\n",
        "import matplotlib.pyplot as plt"
      ],
      "execution_count": 18,
      "outputs": []
    },
    {
      "cell_type": "markdown",
      "metadata": {
        "id": "byxxn5ze_4Fi"
      },
      "source": [
        "# Instantiating the VGG16 convolutional base"
      ]
    },
    {
      "cell_type": "code",
      "metadata": {
        "colab": {
          "base_uri": "https://localhost:8080/"
        },
        "id": "EiQHALxe-NOQ",
        "outputId": "c9c6c0d3-bd85-490b-e222-60e2682453af"
      },
      "source": [
        "conv_base = tf.keras.applications.VGG16(weights='imagenet',\n",
        "include_top=False,\n",
        "input_shape=(150, 150, 3))"
      ],
      "execution_count": 5,
      "outputs": [
        {
          "output_type": "stream",
          "text": [
            "Downloading data from https://storage.googleapis.com/tensorflow/keras-applications/vgg16/vgg16_weights_tf_dim_ordering_tf_kernels_notop.h5\n",
            "58892288/58889256 [==============================] - 0s 0us/step\n"
          ],
          "name": "stdout"
        }
      ]
    },
    {
      "cell_type": "code",
      "metadata": {
        "colab": {
          "base_uri": "https://localhost:8080/"
        },
        "id": "yaKxEEsj-dzo",
        "outputId": "31520122-714c-4b8c-ca45-436728f42747"
      },
      "source": [
        "conv_base.summary()"
      ],
      "execution_count": 6,
      "outputs": [
        {
          "output_type": "stream",
          "text": [
            "Model: \"vgg16\"\n",
            "_________________________________________________________________\n",
            "Layer (type)                 Output Shape              Param #   \n",
            "=================================================================\n",
            "input_1 (InputLayer)         [(None, 150, 150, 3)]     0         \n",
            "_________________________________________________________________\n",
            "block1_conv1 (Conv2D)        (None, 150, 150, 64)      1792      \n",
            "_________________________________________________________________\n",
            "block1_conv2 (Conv2D)        (None, 150, 150, 64)      36928     \n",
            "_________________________________________________________________\n",
            "block1_pool (MaxPooling2D)   (None, 75, 75, 64)        0         \n",
            "_________________________________________________________________\n",
            "block2_conv1 (Conv2D)        (None, 75, 75, 128)       73856     \n",
            "_________________________________________________________________\n",
            "block2_conv2 (Conv2D)        (None, 75, 75, 128)       147584    \n",
            "_________________________________________________________________\n",
            "block2_pool (MaxPooling2D)   (None, 37, 37, 128)       0         \n",
            "_________________________________________________________________\n",
            "block3_conv1 (Conv2D)        (None, 37, 37, 256)       295168    \n",
            "_________________________________________________________________\n",
            "block3_conv2 (Conv2D)        (None, 37, 37, 256)       590080    \n",
            "_________________________________________________________________\n",
            "block3_conv3 (Conv2D)        (None, 37, 37, 256)       590080    \n",
            "_________________________________________________________________\n",
            "block3_pool (MaxPooling2D)   (None, 18, 18, 256)       0         \n",
            "_________________________________________________________________\n",
            "block4_conv1 (Conv2D)        (None, 18, 18, 512)       1180160   \n",
            "_________________________________________________________________\n",
            "block4_conv2 (Conv2D)        (None, 18, 18, 512)       2359808   \n",
            "_________________________________________________________________\n",
            "block4_conv3 (Conv2D)        (None, 18, 18, 512)       2359808   \n",
            "_________________________________________________________________\n",
            "block4_pool (MaxPooling2D)   (None, 9, 9, 512)         0         \n",
            "_________________________________________________________________\n",
            "block5_conv1 (Conv2D)        (None, 9, 9, 512)         2359808   \n",
            "_________________________________________________________________\n",
            "block5_conv2 (Conv2D)        (None, 9, 9, 512)         2359808   \n",
            "_________________________________________________________________\n",
            "block5_conv3 (Conv2D)        (None, 9, 9, 512)         2359808   \n",
            "_________________________________________________________________\n",
            "block5_pool (MaxPooling2D)   (None, 4, 4, 512)         0         \n",
            "=================================================================\n",
            "Total params: 14,714,688\n",
            "Trainable params: 14,714,688\n",
            "Non-trainable params: 0\n",
            "_________________________________________________________________\n"
          ],
          "name": "stdout"
        }
      ]
    },
    {
      "cell_type": "code",
      "metadata": {
        "id": "rf9gdCMN-3aS"
      },
      "source": [
        "base_dir = '/content/drive/MyDrive/kaggle_dataset_cat_and_dog/My_work_on_cats_dogs'\n",
        "train_dir = os.path.join(base_dir, 'train')\n",
        "validation_dir = os.path.join(base_dir, 'validation')\n",
        "test_dir = os.path.join(base_dir, 'test')"
      ],
      "execution_count": 12,
      "outputs": []
    },
    {
      "cell_type": "markdown",
      "metadata": {
        "id": "MBQtcniS_thO"
      },
      "source": [
        "# Extracting features using the pretrained convolutional base"
      ]
    },
    {
      "cell_type": "code",
      "metadata": {
        "id": "xPY4KXGx_IDq"
      },
      "source": [
        "datagen = ImageDataGenerator(rescale=1./255)\n",
        "batch_size = 20"
      ],
      "execution_count": 13,
      "outputs": []
    },
    {
      "cell_type": "code",
      "metadata": {
        "id": "I8nZLC78_MCS"
      },
      "source": [
        "def extract_features(directory, sample_count):\n",
        "    features = np.zeros(shape=(sample_count, 4, 4, 512))\n",
        "    labels = np.zeros(shape=(sample_count))\n",
        "    generator = datagen.flow_from_directory(\n",
        "    directory,\n",
        "    target_size=(150, 150),\n",
        "    batch_size=batch_size,\n",
        "    class_mode='binary')\n",
        "    i=0\n",
        "    for inputs_batch, labels_batch in generator:\n",
        "        features_batch = conv_base.predict(inputs_batch)\n",
        "        features[i * batch_size : (i + 1) * batch_size] = features_batch\n",
        "        labels[i * batch_size : (i + 1) * batch_size] = labels_batch\n",
        "        i += 1\n",
        "        if i * batch_size >= sample_count:\n",
        "            break\n",
        "    return features, labels\n",
        "    "
      ],
      "execution_count": 14,
      "outputs": []
    },
    {
      "cell_type": "code",
      "metadata": {
        "colab": {
          "base_uri": "https://localhost:8080/"
        },
        "id": "7h-AHs4G_UFe",
        "outputId": "9110631e-e1a5-4bc9-8d84-304d2da7a32a"
      },
      "source": [
        "train_features, train_labels = extract_features(train_dir, 2000)\n",
        "validation_features, validation_labels = extract_features(validation_dir, 1000)\n",
        "test_features, test_labels = extract_features(test_dir, 1000)"
      ],
      "execution_count": 15,
      "outputs": [
        {
          "output_type": "stream",
          "text": [
            "Found 2010 images belonging to 2 classes.\n",
            "Found 1000 images belonging to 2 classes.\n",
            "Found 1000 images belonging to 2 classes.\n"
          ],
          "name": "stdout"
        }
      ]
    },
    {
      "cell_type": "markdown",
      "metadata": {
        "id": "8F6vDChbAPmX"
      },
      "source": [
        "The extracted features are currently of shape (samples, 4, 4, 512). You’ll feed them\n",
        "to a densely connected classifier, so first you must flatten them to (samples, 8192):"
      ]
    },
    {
      "cell_type": "code",
      "metadata": {
        "id": "h8uPvkatAQ8x"
      },
      "source": [
        "train_features = np.reshape(train_features, (2000, 4*4* 512))\n",
        "validation_features = np.reshape(validation_features, (1000, 4*4* 512))\n",
        "test_features = np.reshape(test_features, (1000, 4*4* 512))"
      ],
      "execution_count": 16,
      "outputs": []
    },
    {
      "cell_type": "markdown",
      "metadata": {
        "id": "yBCYwZj8FiLT"
      },
      "source": [
        "Defining and training the densely connected classifier"
      ]
    },
    {
      "cell_type": "code",
      "metadata": {
        "colab": {
          "base_uri": "https://localhost:8080/"
        },
        "id": "jDNk2DwfFe__",
        "outputId": "3a9fe865-114a-4a7b-ecd7-92e732ee154b"
      },
      "source": [
        "model = models.Sequential()\n",
        "model.add(layers.Dense(256, activation='relu', input_dim=4 * 4 * 512))\n",
        "model.add(layers.Dropout(0.5))\n",
        "model.add(layers.Dense(1, activation='sigmoid'))\n",
        "model.compile(optimizer=optimizers.RMSprop(lr=2e-5),\n",
        "loss='binary_crossentropy',\n",
        "metrics=['acc'])\n",
        "history = model.fit(train_features, train_labels,\n",
        "epochs=30,\n",
        "batch_size=20,\n",
        "validation_data=(validation_features, validation_labels))"
      ],
      "execution_count": 17,
      "outputs": [
        {
          "output_type": "stream",
          "text": [
            "/usr/local/lib/python3.7/dist-packages/tensorflow/python/keras/optimizer_v2/optimizer_v2.py:375: UserWarning: The `lr` argument is deprecated, use `learning_rate` instead.\n",
            "  \"The `lr` argument is deprecated, use `learning_rate` instead.\")\n"
          ],
          "name": "stderr"
        },
        {
          "output_type": "stream",
          "text": [
            "Epoch 1/30\n",
            "100/100 [==============================] - 1s 6ms/step - loss: 0.5918 - acc: 0.6885 - val_loss: 0.4384 - val_acc: 0.8300\n",
            "Epoch 2/30\n",
            "100/100 [==============================] - 0s 4ms/step - loss: 0.4278 - acc: 0.8045 - val_loss: 0.3616 - val_acc: 0.8680\n",
            "Epoch 3/30\n",
            "100/100 [==============================] - 0s 4ms/step - loss: 0.3634 - acc: 0.8410 - val_loss: 0.3219 - val_acc: 0.8830\n",
            "Epoch 4/30\n",
            "100/100 [==============================] - 0s 4ms/step - loss: 0.3093 - acc: 0.8750 - val_loss: 0.2976 - val_acc: 0.8910\n",
            "Epoch 5/30\n",
            "100/100 [==============================] - 0s 4ms/step - loss: 0.2786 - acc: 0.8925 - val_loss: 0.2806 - val_acc: 0.8940\n",
            "Epoch 6/30\n",
            "100/100 [==============================] - 0s 4ms/step - loss: 0.2573 - acc: 0.8975 - val_loss: 0.2875 - val_acc: 0.8780\n",
            "Epoch 7/30\n",
            "100/100 [==============================] - 0s 4ms/step - loss: 0.2411 - acc: 0.9045 - val_loss: 0.2649 - val_acc: 0.8890\n",
            "Epoch 8/30\n",
            "100/100 [==============================] - 0s 4ms/step - loss: 0.2325 - acc: 0.9170 - val_loss: 0.2648 - val_acc: 0.8950\n",
            "Epoch 9/30\n",
            "100/100 [==============================] - 0s 4ms/step - loss: 0.2198 - acc: 0.9180 - val_loss: 0.2524 - val_acc: 0.8950\n",
            "Epoch 10/30\n",
            "100/100 [==============================] - 0s 4ms/step - loss: 0.2107 - acc: 0.9140 - val_loss: 0.2689 - val_acc: 0.8990\n",
            "Epoch 11/30\n",
            "100/100 [==============================] - 0s 4ms/step - loss: 0.1945 - acc: 0.9240 - val_loss: 0.2461 - val_acc: 0.8970\n",
            "Epoch 12/30\n",
            "100/100 [==============================] - 0s 4ms/step - loss: 0.1843 - acc: 0.9355 - val_loss: 0.2434 - val_acc: 0.8980\n",
            "Epoch 13/30\n",
            "100/100 [==============================] - 0s 4ms/step - loss: 0.1782 - acc: 0.9365 - val_loss: 0.2405 - val_acc: 0.9040\n",
            "Epoch 14/30\n",
            "100/100 [==============================] - 0s 4ms/step - loss: 0.1677 - acc: 0.9455 - val_loss: 0.2444 - val_acc: 0.8950\n",
            "Epoch 15/30\n",
            "100/100 [==============================] - 0s 3ms/step - loss: 0.1634 - acc: 0.9400 - val_loss: 0.2377 - val_acc: 0.9010\n",
            "Epoch 16/30\n",
            "100/100 [==============================] - 0s 4ms/step - loss: 0.1526 - acc: 0.9465 - val_loss: 0.2380 - val_acc: 0.9010\n",
            "Epoch 17/30\n",
            "100/100 [==============================] - 0s 4ms/step - loss: 0.1479 - acc: 0.9500 - val_loss: 0.2374 - val_acc: 0.9010\n",
            "Epoch 18/30\n",
            "100/100 [==============================] - 0s 4ms/step - loss: 0.1417 - acc: 0.9500 - val_loss: 0.2392 - val_acc: 0.9010\n",
            "Epoch 19/30\n",
            "100/100 [==============================] - 0s 4ms/step - loss: 0.1332 - acc: 0.9555 - val_loss: 0.2369 - val_acc: 0.9070\n",
            "Epoch 20/30\n",
            "100/100 [==============================] - 0s 4ms/step - loss: 0.1284 - acc: 0.9580 - val_loss: 0.2379 - val_acc: 0.9050\n",
            "Epoch 21/30\n",
            "100/100 [==============================] - 0s 4ms/step - loss: 0.1252 - acc: 0.9590 - val_loss: 0.2536 - val_acc: 0.8940\n",
            "Epoch 22/30\n",
            "100/100 [==============================] - 0s 4ms/step - loss: 0.1209 - acc: 0.9590 - val_loss: 0.2405 - val_acc: 0.9030\n",
            "Epoch 23/30\n",
            "100/100 [==============================] - 0s 4ms/step - loss: 0.1138 - acc: 0.9615 - val_loss: 0.2416 - val_acc: 0.9020\n",
            "Epoch 24/30\n",
            "100/100 [==============================] - 0s 4ms/step - loss: 0.1128 - acc: 0.9640 - val_loss: 0.2360 - val_acc: 0.9020\n",
            "Epoch 25/30\n",
            "100/100 [==============================] - 0s 3ms/step - loss: 0.1064 - acc: 0.9650 - val_loss: 0.2407 - val_acc: 0.9050\n",
            "Epoch 26/30\n",
            "100/100 [==============================] - 0s 3ms/step - loss: 0.1046 - acc: 0.9685 - val_loss: 0.2389 - val_acc: 0.9020\n",
            "Epoch 27/30\n",
            "100/100 [==============================] - 0s 4ms/step - loss: 0.1016 - acc: 0.9660 - val_loss: 0.2491 - val_acc: 0.8960\n",
            "Epoch 28/30\n",
            "100/100 [==============================] - 0s 3ms/step - loss: 0.0941 - acc: 0.9730 - val_loss: 0.2373 - val_acc: 0.9010\n",
            "Epoch 29/30\n",
            "100/100 [==============================] - 0s 4ms/step - loss: 0.0890 - acc: 0.9750 - val_loss: 0.2459 - val_acc: 0.9020\n",
            "Epoch 30/30\n",
            "100/100 [==============================] - 0s 4ms/step - loss: 0.0808 - acc: 0.9790 - val_loss: 0.2397 - val_acc: 0.9040\n"
          ],
          "name": "stdout"
        }
      ]
    },
    {
      "cell_type": "markdown",
      "metadata": {
        "id": "dJFWJdBhF1o-"
      },
      "source": [
        "Note: Training is very fast, because you only have to deal with two Dense layers—an epoch takes less than one second even on CPU."
      ]
    },
    {
      "cell_type": "markdown",
      "metadata": {
        "id": "_av48ibBF9FA"
      },
      "source": [
        "lets look at the loss and accuracy curves during training\n",
        "Plotting the results"
      ]
    },
    {
      "cell_type": "code",
      "metadata": {
        "colab": {
          "base_uri": "https://localhost:8080/"
        },
        "id": "Q8KzYGKYFpvm",
        "outputId": "b5a91370-b5c1-438c-c9d3-f49c5c6f4d8b"
      },
      "source": [
        "history.history.keys()"
      ],
      "execution_count": 19,
      "outputs": [
        {
          "output_type": "execute_result",
          "data": {
            "text/plain": [
              "dict_keys(['loss', 'acc', 'val_loss', 'val_acc'])"
            ]
          },
          "metadata": {
            "tags": []
          },
          "execution_count": 19
        }
      ]
    },
    {
      "cell_type": "code",
      "metadata": {
        "colab": {
          "base_uri": "https://localhost:8080/",
          "height": 544
        },
        "id": "BOPR3195GWl8",
        "outputId": "92fa56e3-64c4-4b8c-d7ef-0d6609634324"
      },
      "source": [
        "acc = history.history['acc']\n",
        "val_acc = history.history['val_acc']\n",
        "loss = history.history['loss']\n",
        "val_loss = history.history['val_loss']\n",
        "\n",
        "epochs = range(1,len(acc)+1)\n",
        "\n",
        "plt.plot(epochs , acc , 'bo' , label = 'Training Accuracy')\n",
        "plt.plot(epochs , val_acc , 'b' , label = 'validation Accuracy')\n",
        "plt.title('Traing and validation accuracy')\n",
        "plt.legend()\n",
        "\n",
        "plt.figure()\n",
        "\n",
        "plt.plot(epochs , loss , 'bo',label = 'Loss_Accuracy')\n",
        "plt.plot(epochs, val_loss , 'b', label = 'Validation_loss')\n",
        "plt.title('Training and validation loss')\n",
        "plt.legend()\n",
        "plt.show()\n"
      ],
      "execution_count": 22,
      "outputs": [
        {
          "output_type": "display_data",
          "data": {
            "image/png": "[encoded data removed]",
            "text/plain": [
              "<Figure size 432x288 with 1 Axes>"
            ]
          },
          "metadata": {
            "tags": [],
            "needs_background": "light"
          }
        },
        {
          "output_type": "display_data",
          "data": {
            "image/png": "[encoded data removed]",
            "text/plain": [
              "<Figure size 432x288 with 1 Axes>"
            ]
          },
          "metadata": {
            "tags": [],
            "needs_background": "light"
          }
        }
      ]
    },
    {
      "cell_type": "markdown",
      "metadata": {
        "id": "iCEDPylSIW2n"
      },
      "source": [
        "in the first graph we can see that the training and validation is better enough than before and reached greater than 95% accuracy which mean our model is muchh stable to detect any image of dog and cat and validation acc of the model reached at 90% \n",
        "\n",
        "second graph is showing the loss and validation loss while training and we can see during training training loss is keep decreasing"
      ]
    },
    {
      "cell_type": "markdown",
      "metadata": {
        "id": "l6XNtPVAJYnE"
      },
      "source": [
        "this was the first technique through which we trained our model very quickly now lets look at the second technique"
      ]
    },
    {
      "cell_type": "markdown",
      "metadata": {
        "id": "LkELShpyJosZ"
      },
      "source": [
        "## FEATURE EXTRACTION WITH DATA AUGMENTATION"
      ]
    },
    {
      "cell_type": "markdown",
      "metadata": {
        "id": "n1zkSvwYJ8ET"
      },
      "source": [
        "Note: this technique is too expensive to attempt on CPU for this we need to connect with GPU. If you dont want to run your code in GPU then previous technique is the good choice for you to follow on CPU."
      ]
    },
    {
      "cell_type": "markdown",
      "metadata": {
        "id": "zmps1gKBKav9"
      },
      "source": [
        "step1 : Adding a densely connected classifier on top of the convolutional base"
      ]
    },
    {
      "cell_type": "code",
      "metadata": {
        "colab": {
          "base_uri": "https://localhost:8080/"
        },
        "id": "D5vvWupSH5SW",
        "outputId": "c9132873-6a67-4879-de04-f1dc37c087d7"
      },
      "source": [
        "model = models.Sequential()\n",
        "model.add(conv_base)\n",
        "model.add(layers.Flatten())\n",
        "model.add(layers.Dense(256, activation='relu'))\n",
        "model.add(layers.Dense(1, activation='sigmoid'))\n",
        "model.summary()"
      ],
      "execution_count": 31,
      "outputs": [
        {
          "output_type": "stream",
          "text": [
            "Model: \"sequential_3\"\n",
            "_________________________________________________________________\n",
            "Layer (type)                 Output Shape              Param #   \n",
            "=================================================================\n",
            "vgg16 (Functional)           (None, 4, 4, 512)         14714688  \n",
            "_________________________________________________________________\n",
            "flatten_2 (Flatten)          (None, 8192)              0         \n",
            "_________________________________________________________________\n",
            "dense_6 (Dense)              (None, 256)               2097408   \n",
            "_________________________________________________________________\n",
            "dense_7 (Dense)              (None, 1)                 257       \n",
            "=================================================================\n",
            "Total params: 16,812,353\n",
            "Trainable params: 2,097,665\n",
            "Non-trainable params: 14,714,688\n",
            "_________________________________________________________________\n"
          ],
          "name": "stdout"
        }
      ]
    },
    {
      "cell_type": "code",
      "metadata": {
        "colab": {
          "base_uri": "https://localhost:8080/"
        },
        "id": "vitYw0k_KhEM",
        "outputId": "91849508-35e7-4cb4-f13f-4601505c8562"
      },
      "source": [
        "print('This is the number of trainable weights before freezing the conv base:', len(model.trainable_weights))\n",
        "conv_base.trainable = False\n",
        "print('This is the number of trainable weights After freezing the conv base:', len(model.trainable_weights))"
      ],
      "execution_count": 34,
      "outputs": [
        {
          "output_type": "stream",
          "text": [
            "This is the number of trainable weights before freezing the conv base: 4\n",
            "This is the number of trainable weights After freezing the conv base: 4\n"
          ],
          "name": "stdout"
        }
      ]
    },
    {
      "cell_type": "markdown",
      "metadata": {
        "id": "kyxCTia8L6fc"
      },
      "source": [
        "Now we can start training our model, with the same data-augmentation configution\n",
        "\n",
        "Training the model end to end with a frozen convolutional base"
      ]
    },
    {
      "cell_type": "code",
      "metadata": {
        "colab": {
          "base_uri": "https://localhost:8080/"
        },
        "id": "fj_rgr1VLJas",
        "outputId": "d76649df-5844-4326-9dce-d3a4f5079806"
      },
      "source": [
        "train_datagen = ImageDataGenerator( rescale=1./255, rotation_range=40, width_shift_range=0.2, height_shift_range=0.2, shear_range=0.2, zoom_range=0.2, horizontal_flip=True, fill_mode='nearest')\n",
        "\n",
        "test_datagen = ImageDataGenerator(rescale=1./255)\n",
        "\n",
        "train_generator = train_datagen.flow_from_directory( train_dir, target_size=(150, 150) , batch_size=20 , class_mode='binary')\n",
        "\n",
        "validation_generator = test_datagen.flow_from_directory(validation_dir , target_size=(150, 150), batch_size=20, class_mode='binary')\n",
        "model.compile(loss='binary_crossentropy', optimizer=optimizers.RMSprop(lr=2e-5),metrics=['acc'])\n",
        "history = model.fit_generator(train_generator, steps_per_epoch=100, epochs=30, validation_data=validation_generator, validation_steps=50)\n"
      ],
      "execution_count": 35,
      "outputs": [
        {
          "output_type": "stream",
          "text": [
            "Found 2010 images belonging to 2 classes.\n",
            "Found 1000 images belonging to 2 classes.\n"
          ],
          "name": "stdout"
        },
        {
          "output_type": "stream",
          "text": [
            "/usr/local/lib/python3.7/dist-packages/tensorflow/python/keras/optimizer_v2/optimizer_v2.py:375: UserWarning: The `lr` argument is deprecated, use `learning_rate` instead.\n",
            "  \"The `lr` argument is deprecated, use `learning_rate` instead.\")\n",
            "/usr/local/lib/python3.7/dist-packages/tensorflow/python/keras/engine/training.py:1940: UserWarning: `Model.fit_generator` is deprecated and will be removed in a future version. Please use `Model.fit`, which supports generators.\n",
            "  warnings.warn('`Model.fit_generator` is deprecated and '\n"
          ],
          "name": "stderr"
        },
        {
          "output_type": "stream",
          "text": [
            "Epoch 1/30\n",
            "100/100 [==============================] - 25s 243ms/step - loss: 0.5762 - acc: 0.7271 - val_loss: 0.4426 - val_acc: 0.8430\n",
            "Epoch 2/30\n",
            "100/100 [==============================] - 22s 217ms/step - loss: 0.4834 - acc: 0.7784 - val_loss: 0.3799 - val_acc: 0.8620\n",
            "Epoch 3/30\n",
            "100/100 [==============================] - 21s 211ms/step - loss: 0.4365 - acc: 0.8090 - val_loss: 0.3293 - val_acc: 0.8750\n",
            "Epoch 4/30\n",
            "100/100 [==============================] - 21s 212ms/step - loss: 0.4030 - acc: 0.8146 - val_loss: 0.3167 - val_acc: 0.8620\n",
            "Epoch 5/30\n",
            "100/100 [==============================] - 21s 210ms/step - loss: 0.3843 - acc: 0.8342 - val_loss: 0.2958 - val_acc: 0.8810\n",
            "Epoch 6/30\n",
            "100/100 [==============================] - 21s 213ms/step - loss: 0.3760 - acc: 0.8377 - val_loss: 0.2862 - val_acc: 0.8760\n",
            "Epoch 7/30\n",
            "100/100 [==============================] - 21s 211ms/step - loss: 0.3544 - acc: 0.8447 - val_loss: 0.2745 - val_acc: 0.8890\n",
            "Epoch 8/30\n",
            "100/100 [==============================] - 22s 215ms/step - loss: 0.3447 - acc: 0.8503 - val_loss: 0.2742 - val_acc: 0.8960\n",
            "Epoch 9/30\n",
            "100/100 [==============================] - 22s 221ms/step - loss: 0.3482 - acc: 0.8447 - val_loss: 0.2668 - val_acc: 0.8920\n",
            "Epoch 10/30\n",
            "100/100 [==============================] - 22s 221ms/step - loss: 0.3345 - acc: 0.8578 - val_loss: 0.2615 - val_acc: 0.8940\n",
            "Epoch 11/30\n",
            "100/100 [==============================] - 22s 215ms/step - loss: 0.3358 - acc: 0.8568 - val_loss: 0.2673 - val_acc: 0.8900\n",
            "Epoch 12/30\n",
            "100/100 [==============================] - 21s 215ms/step - loss: 0.3190 - acc: 0.8563 - val_loss: 0.2541 - val_acc: 0.8980\n",
            "Epoch 13/30\n",
            "100/100 [==============================] - 21s 208ms/step - loss: 0.3286 - acc: 0.8613 - val_loss: 0.2558 - val_acc: 0.8950\n",
            "Epoch 14/30\n",
            "100/100 [==============================] - 21s 210ms/step - loss: 0.3315 - acc: 0.8573 - val_loss: 0.2505 - val_acc: 0.9040\n",
            "Epoch 15/30\n",
            "100/100 [==============================] - 21s 211ms/step - loss: 0.3124 - acc: 0.8578 - val_loss: 0.2519 - val_acc: 0.9030\n",
            "Epoch 16/30\n",
            "100/100 [==============================] - 21s 213ms/step - loss: 0.3109 - acc: 0.8724 - val_loss: 0.2822 - val_acc: 0.8750\n",
            "Epoch 17/30\n",
            "100/100 [==============================] - 22s 222ms/step - loss: 0.3108 - acc: 0.8578 - val_loss: 0.2561 - val_acc: 0.8890\n",
            "Epoch 18/30\n",
            "100/100 [==============================] - 22s 218ms/step - loss: 0.2971 - acc: 0.8668 - val_loss: 0.2490 - val_acc: 0.9020\n",
            "Epoch 19/30\n",
            "100/100 [==============================] - 21s 214ms/step - loss: 0.2998 - acc: 0.8709 - val_loss: 0.2473 - val_acc: 0.9000\n",
            "Epoch 20/30\n",
            "100/100 [==============================] - 21s 214ms/step - loss: 0.3105 - acc: 0.8655 - val_loss: 0.2469 - val_acc: 0.9000\n",
            "Epoch 21/30\n",
            "100/100 [==============================] - 21s 212ms/step - loss: 0.3021 - acc: 0.8693 - val_loss: 0.2491 - val_acc: 0.9010\n",
            "Epoch 22/30\n",
            "100/100 [==============================] - 21s 213ms/step - loss: 0.3069 - acc: 0.8724 - val_loss: 0.2473 - val_acc: 0.8990\n",
            "Epoch 23/30\n",
            "100/100 [==============================] - 21s 211ms/step - loss: 0.2849 - acc: 0.8759 - val_loss: 0.2562 - val_acc: 0.8960\n",
            "Epoch 24/30\n",
            "100/100 [==============================] - 21s 212ms/step - loss: 0.2931 - acc: 0.8729 - val_loss: 0.2593 - val_acc: 0.8890\n",
            "Epoch 25/30\n",
            "100/100 [==============================] - 21s 213ms/step - loss: 0.2969 - acc: 0.8693 - val_loss: 0.2450 - val_acc: 0.9020\n",
            "Epoch 26/30\n",
            "100/100 [==============================] - 21s 214ms/step - loss: 0.2970 - acc: 0.8744 - val_loss: 0.2575 - val_acc: 0.8960\n",
            "Epoch 27/30\n",
            "100/100 [==============================] - 21s 213ms/step - loss: 0.3050 - acc: 0.8588 - val_loss: 0.2449 - val_acc: 0.9020\n",
            "Epoch 28/30\n",
            "100/100 [==============================] - 22s 217ms/step - loss: 0.2816 - acc: 0.8754 - val_loss: 0.2442 - val_acc: 0.9000\n",
            "Epoch 29/30\n",
            "100/100 [==============================] - 22s 216ms/step - loss: 0.2766 - acc: 0.8784 - val_loss: 0.2410 - val_acc: 0.9060\n",
            "Epoch 30/30\n",
            "100/100 [==============================] - 21s 209ms/step - loss: 0.2889 - acc: 0.8764 - val_loss: 0.2580 - val_acc: 0.8950\n"
          ],
          "name": "stdout"
        }
      ]
    },
    {
      "cell_type": "markdown",
      "metadata": {
        "id": "uoBqzXSQRjoB"
      },
      "source": [
        "lets plot our results again "
      ]
    },
    {
      "cell_type": "code",
      "metadata": {
        "colab": {
          "base_uri": "https://localhost:8080/",
          "height": 544
        },
        "id": "1SoIn-brNeMu",
        "outputId": "622c772c-389f-4c33-a459-d4b879275804"
      },
      "source": [
        "acc = history.history['acc']\n",
        "val_acc = history.history['val_acc']\n",
        "loss = history.history['loss']\n",
        "val_loss = history.history['val_loss']\n",
        "\n",
        "epochs = range(1 , len(acc)+1)\n",
        "\n",
        "plt.plot(epochs , acc , 'bo', label = 'Training Accuracy')\n",
        "plt.plot(epochs , val_acc , 'b', label = 'Validation Accuracy')\n",
        "plt.title('Training and validation accuracy') #Training and validation accuracy for feature extraction with data augmentation\n",
        "plt.legend()\n",
        "\n",
        "plt.figure()\n",
        "\n",
        "plt.plot(epochs , loss, 'bo', label = 'Training loss' )\n",
        "plt.plot(epochs , val_loss, 'b', label = 'validation loss' )\n",
        "plt.title('Training and validation loss')\n",
        "plt.legend()\n",
        "\n",
        "plt.show()"
      ],
      "execution_count": 37,
      "outputs": [
        {
          "output_type": "display_data",
          "data": {
            "image/png": "[encoded data removed]",
            "text/plain": [
              "<Figure size 432x288 with 1 Axes>"
            ]
          },
          "metadata": {
            "tags": [],
            "needs_background": "light"
          }
        },
        {
          "output_type": "display_data",
          "data": {
            "image/png": "[encoded data removed]",
            "text/plain": [
              "<Figure size 432x288 with 1 Axes>"
            ]
          },
          "metadata": {
            "tags": [],
            "needs_background": "light"
          }
        }
      ]
    },
    {
      "cell_type": "markdown",
      "metadata": {
        "id": "uWLl8AnsTODt"
      },
      "source": [
        "Note: we have trained our model using a pre-trained model with the help of data augmentation"
      ]
    },
    {
      "cell_type": "markdown",
      "metadata": {
        "id": "1lyquTfFTV4B"
      },
      "source": [
        "lets look into another way to get better accuracy using pre-trained model"
      ]
    },
    {
      "cell_type": "markdown",
      "metadata": {
        "id": "kp3Ti9OhTgPy"
      },
      "source": [
        "Fine-tuning is the widely used technique for model reuse, complementary to feature extraction. fine-tunning technique allow us to freeze all layers of pre-trained model except last one layer by which we connect our layer"
      ]
    },
    {
      "cell_type": "markdown",
      "metadata": {
        "id": "8sj63Df_T-fP"
      },
      "source": [
        "step 1 :Freezing all layers up to a specific one"
      ]
    },
    {
      "cell_type": "code",
      "metadata": {
        "id": "sZLzOpGKSszT"
      },
      "source": [
        "conv_base.trainable = True\n",
        "\n",
        "set_trainable = False\n",
        "\n",
        "for layer in conv_base.layers:\n",
        "  if layer.name == 'block5_conv1':\n",
        "    set_trainable = True\n",
        "  if set_trainable:\n",
        "    layer.trainable = True\n",
        "  else:\n",
        "    layer.trainable = False"
      ],
      "execution_count": 38,
      "outputs": []
    },
    {
      "cell_type": "markdown",
      "metadata": {
        "id": "0aLXw7GlU1pC"
      },
      "source": [
        "Now you can begin fine-tuning the network. You’ll do this with the RMSProp opti\u0002mizer, using a very low learning rate. The reason for using a low learning rate is that\n",
        "you want to limit the magnitude of the modifications you make to the representations of the three layers you’re fine-tuning. Updates that are too large may harm these rep\u0002resentations."
      ]
    },
    {
      "cell_type": "markdown",
      "metadata": {
        "id": "zkTzlNFcU9WQ"
      },
      "source": [
        "**Fine-tuning the model**"
      ]
    },
    {
      "cell_type": "code",
      "metadata": {
        "colab": {
          "base_uri": "https://localhost:8080/"
        },
        "id": "zkGj-wNrUqXE",
        "outputId": "6f1f7268-f5c6-4aff-a67e-a69164f4817c"
      },
      "source": [
        "model.compile(loss='binary_crossentropy', optimizer=optimizers.RMSprop(lr=1e-5), metrics=['acc'])\n",
        "history = model.fit_generator( train_generator, steps_per_epoch=100, epochs=100, validation_data=validation_generator, validation_steps=50)"
      ],
      "execution_count": 39,
      "outputs": [
        {
          "output_type": "stream",
          "text": [
            "/usr/local/lib/python3.7/dist-packages/tensorflow/python/keras/optimizer_v2/optimizer_v2.py:375: UserWarning: The `lr` argument is deprecated, use `learning_rate` instead.\n",
            "  \"The `lr` argument is deprecated, use `learning_rate` instead.\")\n",
            "/usr/local/lib/python3.7/dist-packages/tensorflow/python/keras/engine/training.py:1940: UserWarning: `Model.fit_generator` is deprecated and will be removed in a future version. Please use `Model.fit`, which supports generators.\n",
            "  warnings.warn('`Model.fit_generator` is deprecated and '\n"
          ],
          "name": "stderr"
        },
        {
          "output_type": "stream",
          "text": [
            "Epoch 1/100\n",
            "100/100 [==============================] - 24s 217ms/step - loss: 0.3005 - acc: 0.8734 - val_loss: 0.2209 - val_acc: 0.9090\n",
            "Epoch 2/100\n",
            "100/100 [==============================] - 22s 219ms/step - loss: 0.2604 - acc: 0.8899 - val_loss: 0.3450 - val_acc: 0.8660\n",
            "Epoch 3/100\n",
            "100/100 [==============================] - 22s 217ms/step - loss: 0.2347 - acc: 0.8980 - val_loss: 0.2055 - val_acc: 0.9240\n",
            "Epoch 4/100\n",
            "100/100 [==============================] - 22s 215ms/step - loss: 0.2318 - acc: 0.9020 - val_loss: 0.2038 - val_acc: 0.9230\n",
            "Epoch 5/100\n",
            "100/100 [==============================] - 22s 216ms/step - loss: 0.1872 - acc: 0.9161 - val_loss: 0.1975 - val_acc: 0.9290\n",
            "Epoch 6/100\n",
            "100/100 [==============================] - 22s 215ms/step - loss: 0.2126 - acc: 0.9095 - val_loss: 0.1878 - val_acc: 0.9270\n",
            "Epoch 7/100\n",
            "100/100 [==============================] - 21s 214ms/step - loss: 0.1834 - acc: 0.9271 - val_loss: 0.1845 - val_acc: 0.9320\n",
            "Epoch 8/100\n",
            "100/100 [==============================] - 22s 215ms/step - loss: 0.1726 - acc: 0.9261 - val_loss: 0.1843 - val_acc: 0.9330\n",
            "Epoch 9/100\n",
            "100/100 [==============================] - 22s 218ms/step - loss: 0.1687 - acc: 0.9312 - val_loss: 0.1747 - val_acc: 0.9310\n",
            "Epoch 10/100\n",
            "100/100 [==============================] - 22s 217ms/step - loss: 0.1604 - acc: 0.9387 - val_loss: 0.2212 - val_acc: 0.9200\n",
            "Epoch 11/100\n",
            "100/100 [==============================] - 22s 217ms/step - loss: 0.1414 - acc: 0.9397 - val_loss: 0.1849 - val_acc: 0.9250\n",
            "Epoch 12/100\n",
            "100/100 [==============================] - 21s 214ms/step - loss: 0.1334 - acc: 0.9487 - val_loss: 0.1909 - val_acc: 0.9260\n",
            "Epoch 13/100\n",
            "100/100 [==============================] - 22s 216ms/step - loss: 0.1337 - acc: 0.9437 - val_loss: 0.1729 - val_acc: 0.9360\n",
            "Epoch 14/100\n",
            "100/100 [==============================] - 22s 215ms/step - loss: 0.1116 - acc: 0.9608 - val_loss: 0.1903 - val_acc: 0.9340\n",
            "Epoch 15/100\n",
            "100/100 [==============================] - 21s 214ms/step - loss: 0.1354 - acc: 0.9487 - val_loss: 0.1752 - val_acc: 0.9360\n",
            "Epoch 16/100\n",
            "100/100 [==============================] - 21s 213ms/step - loss: 0.1115 - acc: 0.9553 - val_loss: 0.1811 - val_acc: 0.9320\n",
            "Epoch 17/100\n",
            "100/100 [==============================] - 21s 214ms/step - loss: 0.1077 - acc: 0.9528 - val_loss: 0.1772 - val_acc: 0.9380\n",
            "Epoch 18/100\n",
            "100/100 [==============================] - 22s 216ms/step - loss: 0.1094 - acc: 0.9588 - val_loss: 0.2022 - val_acc: 0.9270\n",
            "Epoch 19/100\n",
            "100/100 [==============================] - 21s 213ms/step - loss: 0.0907 - acc: 0.9603 - val_loss: 0.1913 - val_acc: 0.9320\n",
            "Epoch 20/100\n",
            "100/100 [==============================] - 21s 215ms/step - loss: 0.1088 - acc: 0.9563 - val_loss: 0.1830 - val_acc: 0.9370\n",
            "Epoch 21/100\n",
            "100/100 [==============================] - 22s 217ms/step - loss: 0.1004 - acc: 0.9563 - val_loss: 0.1777 - val_acc: 0.9320\n",
            "Epoch 22/100\n",
            "100/100 [==============================] - 21s 213ms/step - loss: 0.0791 - acc: 0.9704 - val_loss: 0.1897 - val_acc: 0.9360\n",
            "Epoch 23/100\n",
            "100/100 [==============================] - 21s 212ms/step - loss: 0.0845 - acc: 0.9678 - val_loss: 0.1853 - val_acc: 0.9360\n",
            "Epoch 24/100\n",
            "100/100 [==============================] - 22s 216ms/step - loss: 0.0984 - acc: 0.9638 - val_loss: 0.1822 - val_acc: 0.9380\n",
            "Epoch 25/100\n",
            "100/100 [==============================] - 22s 217ms/step - loss: 0.0814 - acc: 0.9683 - val_loss: 0.1986 - val_acc: 0.9330\n",
            "Epoch 26/100\n",
            "100/100 [==============================] - 22s 216ms/step - loss: 0.0712 - acc: 0.9704 - val_loss: 0.2089 - val_acc: 0.9330\n",
            "Epoch 27/100\n",
            "100/100 [==============================] - 21s 214ms/step - loss: 0.0867 - acc: 0.9698 - val_loss: 0.1955 - val_acc: 0.9350\n",
            "Epoch 28/100\n",
            "100/100 [==============================] - 22s 215ms/step - loss: 0.0721 - acc: 0.9693 - val_loss: 0.2045 - val_acc: 0.9340\n",
            "Epoch 29/100\n",
            "100/100 [==============================] - 22s 219ms/step - loss: 0.0593 - acc: 0.9799 - val_loss: 0.2099 - val_acc: 0.9350\n",
            "Epoch 30/100\n",
            "100/100 [==============================] - 22s 215ms/step - loss: 0.0734 - acc: 0.9764 - val_loss: 0.2595 - val_acc: 0.9210\n",
            "Epoch 31/100\n",
            "100/100 [==============================] - 21s 213ms/step - loss: 0.0743 - acc: 0.9698 - val_loss: 0.1973 - val_acc: 0.9300\n",
            "Epoch 32/100\n",
            "100/100 [==============================] - 21s 212ms/step - loss: 0.0538 - acc: 0.9794 - val_loss: 0.2655 - val_acc: 0.9300\n",
            "Epoch 33/100\n",
            "100/100 [==============================] - 21s 213ms/step - loss: 0.0598 - acc: 0.9799 - val_loss: 0.2221 - val_acc: 0.9390\n",
            "Epoch 34/100\n",
            "100/100 [==============================] - 22s 216ms/step - loss: 0.0614 - acc: 0.9774 - val_loss: 0.1996 - val_acc: 0.9360\n",
            "Epoch 35/100\n",
            "100/100 [==============================] - 21s 213ms/step - loss: 0.0624 - acc: 0.9764 - val_loss: 0.2703 - val_acc: 0.9220\n",
            "Epoch 36/100\n",
            "100/100 [==============================] - 23s 226ms/step - loss: 0.0662 - acc: 0.9744 - val_loss: 0.1943 - val_acc: 0.9350\n",
            "Epoch 37/100\n",
            "100/100 [==============================] - 21s 215ms/step - loss: 0.0489 - acc: 0.9829 - val_loss: 0.2129 - val_acc: 0.9320\n",
            "Epoch 38/100\n",
            "100/100 [==============================] - 21s 214ms/step - loss: 0.0539 - acc: 0.9779 - val_loss: 0.3275 - val_acc: 0.9120\n",
            "Epoch 39/100\n",
            "100/100 [==============================] - 21s 214ms/step - loss: 0.0491 - acc: 0.9819 - val_loss: 0.2041 - val_acc: 0.9310\n",
            "Epoch 40/100\n",
            "100/100 [==============================] - 22s 215ms/step - loss: 0.0481 - acc: 0.9844 - val_loss: 0.2146 - val_acc: 0.9330\n",
            "Epoch 41/100\n",
            "100/100 [==============================] - 22s 215ms/step - loss: 0.0537 - acc: 0.9814 - val_loss: 0.2090 - val_acc: 0.9330\n",
            "Epoch 42/100\n",
            "100/100 [==============================] - 22s 216ms/step - loss: 0.0635 - acc: 0.9764 - val_loss: 0.1976 - val_acc: 0.9380\n",
            "Epoch 43/100\n",
            "100/100 [==============================] - 21s 215ms/step - loss: 0.0537 - acc: 0.9794 - val_loss: 0.2387 - val_acc: 0.9270\n",
            "Epoch 44/100\n",
            "100/100 [==============================] - 21s 214ms/step - loss: 0.0487 - acc: 0.9809 - val_loss: 0.1927 - val_acc: 0.9330\n",
            "Epoch 45/100\n",
            "100/100 [==============================] - 21s 213ms/step - loss: 0.0445 - acc: 0.9859 - val_loss: 0.2220 - val_acc: 0.9350\n",
            "Epoch 46/100\n",
            "100/100 [==============================] - 21s 214ms/step - loss: 0.0413 - acc: 0.9854 - val_loss: 0.2422 - val_acc: 0.9380\n",
            "Epoch 47/100\n",
            "100/100 [==============================] - 21s 215ms/step - loss: 0.0515 - acc: 0.9824 - val_loss: 0.2154 - val_acc: 0.9310\n",
            "Epoch 48/100\n",
            "100/100 [==============================] - 21s 214ms/step - loss: 0.0444 - acc: 0.9834 - val_loss: 0.2023 - val_acc: 0.9370\n",
            "Epoch 49/100\n",
            "100/100 [==============================] - 21s 214ms/step - loss: 0.0405 - acc: 0.9839 - val_loss: 0.1933 - val_acc: 0.9330\n",
            "Epoch 50/100\n",
            "100/100 [==============================] - 21s 213ms/step - loss: 0.0333 - acc: 0.9895 - val_loss: 0.3764 - val_acc: 0.9060\n",
            "Epoch 51/100\n",
            "100/100 [==============================] - 21s 214ms/step - loss: 0.0475 - acc: 0.9824 - val_loss: 0.2222 - val_acc: 0.9390\n",
            "Epoch 52/100\n",
            "100/100 [==============================] - 21s 214ms/step - loss: 0.0391 - acc: 0.9859 - val_loss: 0.2481 - val_acc: 0.9270\n",
            "Epoch 53/100\n",
            "100/100 [==============================] - 21s 213ms/step - loss: 0.0276 - acc: 0.9889 - val_loss: 0.2187 - val_acc: 0.9410\n",
            "Epoch 54/100\n",
            "100/100 [==============================] - 21s 212ms/step - loss: 0.0396 - acc: 0.9854 - val_loss: 0.2711 - val_acc: 0.9340\n",
            "Epoch 55/100\n",
            "100/100 [==============================] - 21s 213ms/step - loss: 0.0423 - acc: 0.9874 - val_loss: 0.2260 - val_acc: 0.9340\n",
            "Epoch 56/100\n",
            "100/100 [==============================] - 21s 214ms/step - loss: 0.0331 - acc: 0.9889 - val_loss: 0.2237 - val_acc: 0.9360\n",
            "Epoch 57/100\n",
            "100/100 [==============================] - 21s 213ms/step - loss: 0.0376 - acc: 0.9845 - val_loss: 0.2391 - val_acc: 0.9350\n",
            "Epoch 58/100\n",
            "100/100 [==============================] - 21s 213ms/step - loss: 0.0349 - acc: 0.9879 - val_loss: 0.2754 - val_acc: 0.9330\n",
            "Epoch 59/100\n",
            "100/100 [==============================] - 21s 214ms/step - loss: 0.0359 - acc: 0.9859 - val_loss: 0.2573 - val_acc: 0.9360\n",
            "Epoch 60/100\n",
            "100/100 [==============================] - 21s 214ms/step - loss: 0.0280 - acc: 0.9915 - val_loss: 0.3781 - val_acc: 0.9170\n",
            "Epoch 61/100\n",
            "100/100 [==============================] - 21s 213ms/step - loss: 0.0418 - acc: 0.9844 - val_loss: 0.2416 - val_acc: 0.9360\n",
            "Epoch 62/100\n",
            "100/100 [==============================] - 21s 214ms/step - loss: 0.0264 - acc: 0.9910 - val_loss: 0.2759 - val_acc: 0.9340\n",
            "Epoch 63/100\n",
            "100/100 [==============================] - 21s 212ms/step - loss: 0.0307 - acc: 0.9884 - val_loss: 0.2518 - val_acc: 0.9400\n",
            "Epoch 64/100\n",
            "100/100 [==============================] - 21s 212ms/step - loss: 0.0304 - acc: 0.9899 - val_loss: 0.2506 - val_acc: 0.9370\n",
            "Epoch 65/100\n",
            "100/100 [==============================] - 21s 214ms/step - loss: 0.0327 - acc: 0.9910 - val_loss: 0.3225 - val_acc: 0.9290\n",
            "Epoch 66/100\n",
            "100/100 [==============================] - 21s 212ms/step - loss: 0.0271 - acc: 0.9915 - val_loss: 0.4975 - val_acc: 0.9030\n",
            "Epoch 67/100\n",
            "100/100 [==============================] - 21s 213ms/step - loss: 0.0292 - acc: 0.9889 - val_loss: 0.2368 - val_acc: 0.9340\n",
            "Epoch 68/100\n",
            "100/100 [==============================] - 21s 211ms/step - loss: 0.0279 - acc: 0.9905 - val_loss: 0.2995 - val_acc: 0.9340\n",
            "Epoch 69/100\n",
            "100/100 [==============================] - 21s 215ms/step - loss: 0.0339 - acc: 0.9894 - val_loss: 0.4830 - val_acc: 0.9080\n",
            "Epoch 70/100\n",
            "100/100 [==============================] - 22s 215ms/step - loss: 0.0190 - acc: 0.9925 - val_loss: 0.2426 - val_acc: 0.9390\n",
            "Epoch 71/100\n",
            "100/100 [==============================] - 21s 214ms/step - loss: 0.0327 - acc: 0.9910 - val_loss: 0.2448 - val_acc: 0.9330\n",
            "Epoch 72/100\n",
            "100/100 [==============================] - 22s 216ms/step - loss: 0.0220 - acc: 0.9930 - val_loss: 0.3019 - val_acc: 0.9320\n",
            "Epoch 73/100\n",
            "100/100 [==============================] - 21s 214ms/step - loss: 0.0188 - acc: 0.9940 - val_loss: 0.2410 - val_acc: 0.9410\n",
            "Epoch 74/100\n",
            "100/100 [==============================] - 21s 213ms/step - loss: 0.0320 - acc: 0.9910 - val_loss: 0.2381 - val_acc: 0.9390\n",
            "Epoch 75/100\n",
            "100/100 [==============================] - 21s 214ms/step - loss: 0.0376 - acc: 0.9874 - val_loss: 0.2749 - val_acc: 0.9260\n",
            "Epoch 76/100\n",
            "100/100 [==============================] - 21s 214ms/step - loss: 0.0233 - acc: 0.9930 - val_loss: 0.3446 - val_acc: 0.9270\n",
            "Epoch 77/100\n",
            "100/100 [==============================] - 22s 215ms/step - loss: 0.0290 - acc: 0.9915 - val_loss: 0.3534 - val_acc: 0.9320\n",
            "Epoch 78/100\n",
            "100/100 [==============================] - 22s 217ms/step - loss: 0.0295 - acc: 0.9889 - val_loss: 0.2428 - val_acc: 0.9360\n",
            "Epoch 79/100\n",
            "100/100 [==============================] - 21s 214ms/step - loss: 0.0243 - acc: 0.9920 - val_loss: 0.2251 - val_acc: 0.9400\n",
            "Epoch 80/100\n",
            "100/100 [==============================] - 21s 215ms/step - loss: 0.0221 - acc: 0.9910 - val_loss: 0.3157 - val_acc: 0.9370\n",
            "Epoch 81/100\n",
            "100/100 [==============================] - 21s 213ms/step - loss: 0.0189 - acc: 0.9945 - val_loss: 0.8778 - val_acc: 0.8770\n",
            "Epoch 82/100\n",
            "100/100 [==============================] - 21s 213ms/step - loss: 0.0231 - acc: 0.9935 - val_loss: 0.2419 - val_acc: 0.9470\n",
            "Epoch 83/100\n",
            "100/100 [==============================] - 21s 213ms/step - loss: 0.0198 - acc: 0.9915 - val_loss: 0.2829 - val_acc: 0.9450\n",
            "Epoch 84/100\n",
            "100/100 [==============================] - 21s 215ms/step - loss: 0.0214 - acc: 0.9935 - val_loss: 0.2800 - val_acc: 0.9220\n",
            "Epoch 85/100\n",
            "100/100 [==============================] - 21s 214ms/step - loss: 0.0234 - acc: 0.9925 - val_loss: 0.2456 - val_acc: 0.9440\n",
            "Epoch 86/100\n",
            "100/100 [==============================] - 21s 212ms/step - loss: 0.0276 - acc: 0.9915 - val_loss: 0.2155 - val_acc: 0.9450\n",
            "Epoch 87/100\n",
            "100/100 [==============================] - 21s 213ms/step - loss: 0.0271 - acc: 0.9925 - val_loss: 0.2474 - val_acc: 0.9520\n",
            "Epoch 88/100\n",
            "100/100 [==============================] - 22s 215ms/step - loss: 0.0247 - acc: 0.9905 - val_loss: 0.2043 - val_acc: 0.9480\n",
            "Epoch 89/100\n",
            "100/100 [==============================] - 21s 212ms/step - loss: 0.0213 - acc: 0.9930 - val_loss: 0.2475 - val_acc: 0.9450\n",
            "Epoch 90/100\n",
            "100/100 [==============================] - 21s 213ms/step - loss: 0.0233 - acc: 0.9899 - val_loss: 0.2352 - val_acc: 0.9350\n",
            "Epoch 91/100\n",
            "100/100 [==============================] - 21s 214ms/step - loss: 0.0198 - acc: 0.9935 - val_loss: 0.2253 - val_acc: 0.9510\n",
            "Epoch 92/100\n",
            "100/100 [==============================] - 22s 216ms/step - loss: 0.0232 - acc: 0.9935 - val_loss: 0.2642 - val_acc: 0.9420\n",
            "Epoch 93/100\n",
            "100/100 [==============================] - 21s 215ms/step - loss: 0.0191 - acc: 0.9925 - val_loss: 0.3218 - val_acc: 0.9430\n",
            "Epoch 94/100\n",
            "100/100 [==============================] - 21s 214ms/step - loss: 0.0224 - acc: 0.9920 - val_loss: 0.2594 - val_acc: 0.9380\n",
            "Epoch 95/100\n",
            "100/100 [==============================] - 22s 216ms/step - loss: 0.0171 - acc: 0.9925 - val_loss: 0.5256 - val_acc: 0.9060\n",
            "Epoch 96/100\n",
            "100/100 [==============================] - 22s 217ms/step - loss: 0.0214 - acc: 0.9925 - val_loss: 0.2643 - val_acc: 0.9360\n",
            "Epoch 97/100\n",
            "100/100 [==============================] - 22s 216ms/step - loss: 0.0190 - acc: 0.9925 - val_loss: 0.2624 - val_acc: 0.9430\n",
            "Epoch 98/100\n",
            "100/100 [==============================] - 22s 217ms/step - loss: 0.0148 - acc: 0.9960 - val_loss: 0.3001 - val_acc: 0.9460\n",
            "Epoch 99/100\n",
            "100/100 [==============================] - 22s 215ms/step - loss: 0.0183 - acc: 0.9955 - val_loss: 0.2712 - val_acc: 0.9430\n",
            "Epoch 100/100\n",
            "100/100 [==============================] - 22s 218ms/step - loss: 0.0236 - acc: 0.9915 - val_loss: 0.3635 - val_acc: 0.9280\n"
          ],
          "name": "stdout"
        }
      ]
    },
    {
      "cell_type": "code",
      "metadata": {
        "colab": {
          "base_uri": "https://localhost:8080/",
          "height": 544
        },
        "id": "ccu-TcMyVMgx",
        "outputId": "781ebd07-f263-457b-8a3a-cd664f1236ae"
      },
      "source": [
        "acc = history.history['acc']\n",
        "val_acc = history.history['val_acc']\n",
        "loss = history.history['loss']\n",
        "val_loss = history.history['val_loss']\n",
        "\n",
        "epochs = range(1,len(acc)+1)\n",
        "plt.plot(epochs , acc , 'bo', label = 'Training Accuracy')\n",
        "plt.plot(epochs , val_acc , 'b', label = 'Validation Accuracy')\n",
        "plt.title('Training and validation Accuracy')\n",
        "plt.legend()\n",
        "\n",
        "plt.figure()\n",
        "\n",
        "plt.plot(epochs, loss , 'bo', label='Training Loss')\n",
        "plt.plot(epochs, val_loss , 'b', label='Validation Loss')\n",
        "plt.title('Training and Validation loss')\n",
        "plt.legend()\n",
        "plt.show()"
      ],
      "execution_count": 41,
      "outputs": [
        {
          "output_type": "display_data",
          "data": {
            "image/png": "[encoded data removed]",
            "text/plain": [
              "<Figure size 432x288 with 1 Axes>"
            ]
          },
          "metadata": {
            "tags": [],
            "needs_background": "light"
          }
        },
        {
          "output_type": "display_data",
          "data": {
            "image/png": "[encoded data removed]",
            "text/plain": [
              "<Figure size 432x288 with 1 Axes>"
            ]
          },
          "metadata": {
            "tags": [],
            "needs_background": "light"
          }
        }
      ]
    },
    {
      "cell_type": "markdown",
      "metadata": {
        "id": "gdXjAdHejr35"
      },
      "source": [
        "these above curves look noisy we can smooth it by replacing every loss and accuracy exponential moving averages of these quantity for that we use trivial utility function to do this.\n",
        "\n",
        "\n",
        "**Smoothing the plots**"
      ]
    },
    {
      "cell_type": "code",
      "metadata": {
        "colab": {
          "base_uri": "https://localhost:8080/",
          "height": 544
        },
        "id": "jdWymI0MiEsN",
        "outputId": "c2b4b023-a878-4f25-e0be-60f904b2015d"
      },
      "source": [
        "def smooth_curve(points, factor=0.8):\n",
        "  smoothed_points = []\n",
        "  for point in points:\n",
        "    if smoothed_points:\n",
        "      previous = smoothed_points[-1]\n",
        "      smoothed_points.append(previous * factor + point * (1 - factor))\n",
        "    else:\n",
        "      smoothed_points.append(point)\n",
        "  return smoothed_points\n",
        "plt.plot(epochs,\n",
        "smooth_curve(acc), 'bo', label='Smoothed training acc')\n",
        "plt.plot(epochs,\n",
        "smooth_curve(val_acc), 'b', label='Smoothed validation acc')\n",
        "plt.title('Training and validation accuracy')\n",
        "plt.legend()\n",
        "plt.figure()\n",
        "plt.plot(epochs,\n",
        "smooth_curve(loss), 'bo', label='Smoothed training loss')\n",
        "plt.plot(epochs,\n",
        "smooth_curve(val_loss), 'b', label='Smoothed validation loss')\n",
        "plt.title('Training and validation loss')\n",
        "plt.legend()\n",
        "plt.show()"
      ],
      "execution_count": 42,
      "outputs": [
        {
          "output_type": "display_data",
          "data": {
            "image/png": "[encoded data removed]",
            "text/plain": [
              "<Figure size 432x288 with 1 Axes>"
            ]
          },
          "metadata": {
            "tags": [],
            "needs_background": "light"
          }
        },
        {
          "output_type": "display_data",
          "data": {
            "image/png": "[encoded data removed]",
            "text/plain": [
              "<Figure size 432x288 with 1 Axes>"
            ]
          },
          "metadata": {
            "tags": [],
            "needs_background": "light"
          }
        }
      ]
    },
    {
      "cell_type": "markdown",
      "metadata": {
        "id": "kH1e1kKCmBfG"
      },
      "source": [
        "**Now we can evaluate our model on the test data**"
      ]
    },
    {
      "cell_type": "code",
      "metadata": {
        "colab": {
          "base_uri": "https://localhost:8080/"
        },
        "id": "X9QfKALmkgFp",
        "outputId": "9a86cb68-3ceb-49f6-d1bc-926ea160b0b9"
      },
      "source": [
        "test_generator = test_datagen.flow_from_directory( test_dir, target_size=(150, 150), batch_size=20 , class_mode='binary')\n",
        "test_loss, test_acc = model.evaluate_generator(test_generator, steps=50)\n",
        "print('test acc:',round(test_acc*100,2),'%')"
      ],
      "execution_count": 45,
      "outputs": [
        {
          "output_type": "stream",
          "text": [
            "Found 1000 images belonging to 2 classes.\n"
          ],
          "name": "stdout"
        },
        {
          "output_type": "stream",
          "text": [
            "/usr/local/lib/python3.7/dist-packages/tensorflow/python/keras/engine/training.py:1973: UserWarning: `Model.evaluate_generator` is deprecated and will be removed in a future version. Please use `Model.evaluate`, which supports generators.\n",
            "  warnings.warn('`Model.evaluate_generator` is deprecated and '\n"
          ],
          "name": "stderr"
        },
        {
          "output_type": "stream",
          "text": [
            "test acc: 93.0 %\n"
          ],
          "name": "stdout"
        }
      ]
    },
    {
      "cell_type": "code",
      "metadata": {
        "id": "k0gkS_N2mXxC"
      },
      "source": [
        ""
      ],
      "execution_count": null,
      "outputs": []
    }
  ]
}